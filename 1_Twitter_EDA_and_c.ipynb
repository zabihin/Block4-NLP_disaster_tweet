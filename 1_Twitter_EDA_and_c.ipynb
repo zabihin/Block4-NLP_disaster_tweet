{
  "nbformat": 4,
  "nbformat_minor": 0,
  "metadata": {
    "colab": {
      "provenance": [],
      "machine_shape": "hm",
      "collapsed_sections": [],
      "mount_file_id": "1XFxn3PY1QNBcddcIwPXmTQctYOggKIF6",
      "authorship_tag": "ABX9TyPgCTfz6hl46D8iMFGD+el+",
      "include_colab_link": true
    },
    "kernelspec": {
      "name": "python3",
      "display_name": "Python 3"
    },
    "language_info": {
      "name": "python"
    },
    "accelerator": "GPU",
    "gpuClass": "standard"
  },
  "cells": [
    {
      "cell_type": "markdown",
      "metadata": {
        "id": "view-in-github",
        "colab_type": "text"
      },
      "source": [
        "<a href=\"https://colab.research.google.com/github/zabihin/Block4-NLP_disaster_tweet/blob/main/1_Twitter_EDA_and_c.ipynb\" target=\"_parent\"><img src=\"https://colab.research.google.com/assets/colab-badge.svg\" alt=\"Open In Colab\"/></a>"
      ]
    },
    {
      "cell_type": "markdown",
      "source": [
        "#Natural Language Processing with Disaster Tweets\n",
        "Predict which Tweets are about real disasters and which ones are not"
      ],
      "metadata": {
        "id": "FlDv3fv1Fxd-"
      }
    },
    {
      "cell_type": "markdown",
      "source": [
        "![oie_9LGhBHUTpNS6.jpg](data:image/jpeg;base64,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)"
      ],
      "metadata": {
        "id": "8hO4kWI-FoR3"
      }
    },
    {
      "cell_type": "markdown",
      "source": [
        "###Importing Libraries"
      ],
      "metadata": {
        "id": "-Q5gfnN3GCuV"
      }
    },
    {
      "cell_type": "code",
      "execution_count": null,
      "metadata": {
        "id": "kktz8BmwE5dt"
      },
      "outputs": [],
      "source": [
        "import pandas as pd\n",
        "import numpy as np\n",
        "import matplotlib.pyplot as plt\n",
        "import seaborn as sns\n",
        "\n",
        "import plotly.express as px\n",
        "import plotly.graph_objects as go\n",
        "import spacy\n",
        "nlp = spacy.load('en_core_web_sm')\n",
        "from spacy.lang.en.stop_words import STOP_WORDS\n",
        "from sklearn.model_selection import train_test_split"
      ]
    },
    {
      "cell_type": "markdown",
      "source": [
        "###Load the Data"
      ],
      "metadata": {
        "id": "4FHSwrjELE_n"
      }
    },
    {
      "cell_type": "code",
      "execution_count": null,
      "metadata": {
        "id": "8AwlTXPzKfr0",
        "colab": {
          "base_uri": "https://localhost:8080/",
          "height": 206
        },
        "outputId": "a4d837e5-398d-454e-9ce6-25f39026a60e"
      },
      "outputs": [
        {
          "output_type": "display_data",
          "data": {
            "text/plain": [
              "   id keyword location                                               text  \\\n",
              "0   1     NaN      NaN  Our Deeds are the Reason of this #earthquake M...   \n",
              "1   4     NaN      NaN             Forest fire near La Ronge Sask. Canada   \n",
              "2   5     NaN      NaN  All residents asked to 'shelter in place' are ...   \n",
              "3   6     NaN      NaN  13,000 people receive #wildfires evacuation or...   \n",
              "4   7     NaN      NaN  Just got sent this photo from Ruby #Alaska as ...   \n",
              "\n",
              "   target  \n",
              "0       1  \n",
              "1       1  \n",
              "2       1  \n",
              "3       1  \n",
              "4       1  "
            ],
            "text/html": [
              "\n",
              "  <div id=\"df-c6c398a9-9efd-4ad2-99f6-a53a0b11b2b4\">\n",
              "    <div class=\"colab-df-container\">\n",
              "      <div>\n",
              "<style scoped>\n",
              "    .dataframe tbody tr th:only-of-type {\n",
              "        vertical-align: middle;\n",
              "    }\n",
              "\n",
              "    .dataframe tbody tr th {\n",
              "        vertical-align: top;\n",
              "    }\n",
              "\n",
              "    .dataframe thead th {\n",
              "        text-align: right;\n",
              "    }\n",
              "</style>\n",
              "<table border=\"1\" class=\"dataframe\">\n",
              "  <thead>\n",
              "    <tr style=\"text-align: right;\">\n",
              "      <th></th>\n",
              "      <th>id</th>\n",
              "      <th>keyword</th>\n",
              "      <th>location</th>\n",
              "      <th>text</th>\n",
              "      <th>target</th>\n",
              "    </tr>\n",
              "  </thead>\n",
              "  <tbody>\n",
              "    <tr>\n",
              "      <th>0</th>\n",
              "      <td>1</td>\n",
              "      <td>NaN</td>\n",
              "      <td>NaN</td>\n",
              "      <td>Our Deeds are the Reason of this #earthquake M...</td>\n",
              "      <td>1</td>\n",
              "    </tr>\n",
              "    <tr>\n",
              "      <th>1</th>\n",
              "      <td>4</td>\n",
              "      <td>NaN</td>\n",
              "      <td>NaN</td>\n",
              "      <td>Forest fire near La Ronge Sask. Canada</td>\n",
              "      <td>1</td>\n",
              "    </tr>\n",
              "    <tr>\n",
              "      <th>2</th>\n",
              "      <td>5</td>\n",
              "      <td>NaN</td>\n",
              "      <td>NaN</td>\n",
              "      <td>All residents asked to 'shelter in place' are ...</td>\n",
              "      <td>1</td>\n",
              "    </tr>\n",
              "    <tr>\n",
              "      <th>3</th>\n",
              "      <td>6</td>\n",
              "      <td>NaN</td>\n",
              "      <td>NaN</td>\n",
              "      <td>13,000 people receive #wildfires evacuation or...</td>\n",
              "      <td>1</td>\n",
              "    </tr>\n",
              "    <tr>\n",
              "      <th>4</th>\n",
              "      <td>7</td>\n",
              "      <td>NaN</td>\n",
              "      <td>NaN</td>\n",
              "      <td>Just got sent this photo from Ruby #Alaska as ...</td>\n",
              "      <td>1</td>\n",
              "    </tr>\n",
              "  </tbody>\n",
              "</table>\n",
              "</div>\n",
              "      <button class=\"colab-df-convert\" onclick=\"convertToInteractive('df-c6c398a9-9efd-4ad2-99f6-a53a0b11b2b4')\"\n",
              "              title=\"Convert this dataframe to an interactive table.\"\n",
              "              style=\"display:none;\">\n",
              "        \n",
              "  <svg xmlns=\"http://www.w3.org/2000/svg\" height=\"24px\"viewBox=\"0 0 24 24\"\n",
              "       width=\"24px\">\n",
              "    <path d=\"M0 0h24v24H0V0z\" fill=\"none\"/>\n",
              "    <path d=\"M18.56 5.44l.94 2.06.94-2.06 2.06-.94-2.06-.94-.94-2.06-.94 2.06-2.06.94zm-11 1L8.5 8.5l.94-2.06 2.06-.94-2.06-.94L8.5 2.5l-.94 2.06-2.06.94zm10 10l.94 2.06.94-2.06 2.06-.94-2.06-.94-.94-2.06-.94 2.06-2.06.94z\"/><path d=\"M17.41 7.96l-1.37-1.37c-.4-.4-.92-.59-1.43-.59-.52 0-1.04.2-1.43.59L10.3 9.45l-7.72 7.72c-.78.78-.78 2.05 0 2.83L4 21.41c.39.39.9.59 1.41.59.51 0 1.02-.2 1.41-.59l7.78-7.78 2.81-2.81c.8-.78.8-2.07 0-2.86zM5.41 20L4 18.59l7.72-7.72 1.47 1.35L5.41 20z\"/>\n",
              "  </svg>\n",
              "      </button>\n",
              "      \n",
              "  <style>\n",
              "    .colab-df-container {\n",
              "      display:flex;\n",
              "      flex-wrap:wrap;\n",
              "      gap: 12px;\n",
              "    }\n",
              "\n",
              "    .colab-df-convert {\n",
              "      background-color: #E8F0FE;\n",
              "      border: none;\n",
              "      border-radius: 50%;\n",
              "      cursor: pointer;\n",
              "      display: none;\n",
              "      fill: #1967D2;\n",
              "      height: 32px;\n",
              "      padding: 0 0 0 0;\n",
              "      width: 32px;\n",
              "    }\n",
              "\n",
              "    .colab-df-convert:hover {\n",
              "      background-color: #E2EBFA;\n",
              "      box-shadow: 0px 1px 2px rgba(60, 64, 67, 0.3), 0px 1px 3px 1px rgba(60, 64, 67, 0.15);\n",
              "      fill: #174EA6;\n",
              "    }\n",
              "\n",
              "    [theme=dark] .colab-df-convert {\n",
              "      background-color: #3B4455;\n",
              "      fill: #D2E3FC;\n",
              "    }\n",
              "\n",
              "    [theme=dark] .colab-df-convert:hover {\n",
              "      background-color: #434B5C;\n",
              "      box-shadow: 0px 1px 3px 1px rgba(0, 0, 0, 0.15);\n",
              "      filter: drop-shadow(0px 1px 2px rgba(0, 0, 0, 0.3));\n",
              "      fill: #FFFFFF;\n",
              "    }\n",
              "  </style>\n",
              "\n",
              "      <script>\n",
              "        const buttonEl =\n",
              "          document.querySelector('#df-c6c398a9-9efd-4ad2-99f6-a53a0b11b2b4 button.colab-df-convert');\n",
              "        buttonEl.style.display =\n",
              "          google.colab.kernel.accessAllowed ? 'block' : 'none';\n",
              "\n",
              "        async function convertToInteractive(key) {\n",
              "          const element = document.querySelector('#df-c6c398a9-9efd-4ad2-99f6-a53a0b11b2b4');\n",
              "          const dataTable =\n",
              "            await google.colab.kernel.invokeFunction('convertToInteractive',\n",
              "                                                     [key], {});\n",
              "          if (!dataTable) return;\n",
              "\n",
              "          const docLinkHtml = 'Like what you see? Visit the ' +\n",
              "            '<a target=\"_blank\" href=https://colab.research.google.com/notebooks/data_table.ipynb>data table notebook</a>'\n",
              "            + ' to learn more about interactive tables.';\n",
              "          element.innerHTML = '';\n",
              "          dataTable['output_type'] = 'display_data';\n",
              "          await google.colab.output.renderOutput(dataTable, element);\n",
              "          const docLink = document.createElement('div');\n",
              "          docLink.innerHTML = docLinkHtml;\n",
              "          element.appendChild(docLink);\n",
              "        }\n",
              "      </script>\n",
              "    </div>\n",
              "  </div>\n",
              "  "
            ]
          },
          "metadata": {}
        }
      ],
      "source": [
        "#load data\n",
        "train_tweet = pd.read_csv('/content/drive/MyDrive/Colab Notebooks/train.csv')\n",
        "test_tweet = pd.read_csv('/content/drive/MyDrive/Colab Notebooks/test.csv')\n",
        "display (train_tweet.head())"
      ]
    },
    {
      "cell_type": "markdown",
      "source": [
        "##EDA (Exploratory data analysis)"
      ],
      "metadata": {
        "id": "pzXgftfULeog"
      }
    },
    {
      "cell_type": "code",
      "source": [
        "print (train_tweet.shape)"
      ],
      "metadata": {
        "colab": {
          "base_uri": "https://localhost:8080/"
        },
        "id": "QZwbc15BLpob",
        "outputId": "75b68aff-da7b-4266-f533-38093c44bf06"
      },
      "execution_count": null,
      "outputs": [
        {
          "output_type": "stream",
          "name": "stdout",
          "text": [
            "(7613, 5)\n"
          ]
        }
      ]
    },
    {
      "cell_type": "code",
      "source": [
        "train_tweet.describe(include='all')\n"
      ],
      "metadata": {
        "colab": {
          "base_uri": "https://localhost:8080/",
          "height": 394
        },
        "id": "wX3y3TlPpfL-",
        "outputId": "97279c21-fc39-492e-ac92-0087e26ba5ec"
      },
      "execution_count": null,
      "outputs": [
        {
          "output_type": "execute_result",
          "data": {
            "text/plain": [
              "                  id     keyword location  \\\n",
              "count    7613.000000        7552     5080   \n",
              "unique           NaN         221     3341   \n",
              "top              NaN  fatalities      USA   \n",
              "freq             NaN          45      104   \n",
              "mean     5441.934848         NaN      NaN   \n",
              "std      3137.116090         NaN      NaN   \n",
              "min         1.000000         NaN      NaN   \n",
              "25%      2734.000000         NaN      NaN   \n",
              "50%      5408.000000         NaN      NaN   \n",
              "75%      8146.000000         NaN      NaN   \n",
              "max     10873.000000         NaN      NaN   \n",
              "\n",
              "                                                     text      target  \n",
              "count                                                7613  7613.00000  \n",
              "unique                                               7503         NaN  \n",
              "top     11-Year-Old Boy Charged With Manslaughter of T...         NaN  \n",
              "freq                                                   10         NaN  \n",
              "mean                                                  NaN     0.42966  \n",
              "std                                                   NaN     0.49506  \n",
              "min                                                   NaN     0.00000  \n",
              "25%                                                   NaN     0.00000  \n",
              "50%                                                   NaN     0.00000  \n",
              "75%                                                   NaN     1.00000  \n",
              "max                                                   NaN     1.00000  "
            ],
            "text/html": [
              "\n",
              "  <div id=\"df-ec80eff0-d36c-4d06-91b8-33f4e0602e97\">\n",
              "    <div class=\"colab-df-container\">\n",
              "      <div>\n",
              "<style scoped>\n",
              "    .dataframe tbody tr th:only-of-type {\n",
              "        vertical-align: middle;\n",
              "    }\n",
              "\n",
              "    .dataframe tbody tr th {\n",
              "        vertical-align: top;\n",
              "    }\n",
              "\n",
              "    .dataframe thead th {\n",
              "        text-align: right;\n",
              "    }\n",
              "</style>\n",
              "<table border=\"1\" class=\"dataframe\">\n",
              "  <thead>\n",
              "    <tr style=\"text-align: right;\">\n",
              "      <th></th>\n",
              "      <th>id</th>\n",
              "      <th>keyword</th>\n",
              "      <th>location</th>\n",
              "      <th>text</th>\n",
              "      <th>target</th>\n",
              "    </tr>\n",
              "  </thead>\n",
              "  <tbody>\n",
              "    <tr>\n",
              "      <th>count</th>\n",
              "      <td>7613.000000</td>\n",
              "      <td>7552</td>\n",
              "      <td>5080</td>\n",
              "      <td>7613</td>\n",
              "      <td>7613.00000</td>\n",
              "    </tr>\n",
              "    <tr>\n",
              "      <th>unique</th>\n",
              "      <td>NaN</td>\n",
              "      <td>221</td>\n",
              "      <td>3341</td>\n",
              "      <td>7503</td>\n",
              "      <td>NaN</td>\n",
              "    </tr>\n",
              "    <tr>\n",
              "      <th>top</th>\n",
              "      <td>NaN</td>\n",
              "      <td>fatalities</td>\n",
              "      <td>USA</td>\n",
              "      <td>11-Year-Old Boy Charged With Manslaughter of T...</td>\n",
              "      <td>NaN</td>\n",
              "    </tr>\n",
              "    <tr>\n",
              "      <th>freq</th>\n",
              "      <td>NaN</td>\n",
              "      <td>45</td>\n",
              "      <td>104</td>\n",
              "      <td>10</td>\n",
              "      <td>NaN</td>\n",
              "    </tr>\n",
              "    <tr>\n",
              "      <th>mean</th>\n",
              "      <td>5441.934848</td>\n",
              "      <td>NaN</td>\n",
              "      <td>NaN</td>\n",
              "      <td>NaN</td>\n",
              "      <td>0.42966</td>\n",
              "    </tr>\n",
              "    <tr>\n",
              "      <th>std</th>\n",
              "      <td>3137.116090</td>\n",
              "      <td>NaN</td>\n",
              "      <td>NaN</td>\n",
              "      <td>NaN</td>\n",
              "      <td>0.49506</td>\n",
              "    </tr>\n",
              "    <tr>\n",
              "      <th>min</th>\n",
              "      <td>1.000000</td>\n",
              "      <td>NaN</td>\n",
              "      <td>NaN</td>\n",
              "      <td>NaN</td>\n",
              "      <td>0.00000</td>\n",
              "    </tr>\n",
              "    <tr>\n",
              "      <th>25%</th>\n",
              "      <td>2734.000000</td>\n",
              "      <td>NaN</td>\n",
              "      <td>NaN</td>\n",
              "      <td>NaN</td>\n",
              "      <td>0.00000</td>\n",
              "    </tr>\n",
              "    <tr>\n",
              "      <th>50%</th>\n",
              "      <td>5408.000000</td>\n",
              "      <td>NaN</td>\n",
              "      <td>NaN</td>\n",
              "      <td>NaN</td>\n",
              "      <td>0.00000</td>\n",
              "    </tr>\n",
              "    <tr>\n",
              "      <th>75%</th>\n",
              "      <td>8146.000000</td>\n",
              "      <td>NaN</td>\n",
              "      <td>NaN</td>\n",
              "      <td>NaN</td>\n",
              "      <td>1.00000</td>\n",
              "    </tr>\n",
              "    <tr>\n",
              "      <th>max</th>\n",
              "      <td>10873.000000</td>\n",
              "      <td>NaN</td>\n",
              "      <td>NaN</td>\n",
              "      <td>NaN</td>\n",
              "      <td>1.00000</td>\n",
              "    </tr>\n",
              "  </tbody>\n",
              "</table>\n",
              "</div>\n",
              "      <button class=\"colab-df-convert\" onclick=\"convertToInteractive('df-ec80eff0-d36c-4d06-91b8-33f4e0602e97')\"\n",
              "              title=\"Convert this dataframe to an interactive table.\"\n",
              "              style=\"display:none;\">\n",
              "        \n",
              "  <svg xmlns=\"http://www.w3.org/2000/svg\" height=\"24px\"viewBox=\"0 0 24 24\"\n",
              "       width=\"24px\">\n",
              "    <path d=\"M0 0h24v24H0V0z\" fill=\"none\"/>\n",
              "    <path d=\"M18.56 5.44l.94 2.06.94-2.06 2.06-.94-2.06-.94-.94-2.06-.94 2.06-2.06.94zm-11 1L8.5 8.5l.94-2.06 2.06-.94-2.06-.94L8.5 2.5l-.94 2.06-2.06.94zm10 10l.94 2.06.94-2.06 2.06-.94-2.06-.94-.94-2.06-.94 2.06-2.06.94z\"/><path d=\"M17.41 7.96l-1.37-1.37c-.4-.4-.92-.59-1.43-.59-.52 0-1.04.2-1.43.59L10.3 9.45l-7.72 7.72c-.78.78-.78 2.05 0 2.83L4 21.41c.39.39.9.59 1.41.59.51 0 1.02-.2 1.41-.59l7.78-7.78 2.81-2.81c.8-.78.8-2.07 0-2.86zM5.41 20L4 18.59l7.72-7.72 1.47 1.35L5.41 20z\"/>\n",
              "  </svg>\n",
              "      </button>\n",
              "      \n",
              "  <style>\n",
              "    .colab-df-container {\n",
              "      display:flex;\n",
              "      flex-wrap:wrap;\n",
              "      gap: 12px;\n",
              "    }\n",
              "\n",
              "    .colab-df-convert {\n",
              "      background-color: #E8F0FE;\n",
              "      border: none;\n",
              "      border-radius: 50%;\n",
              "      cursor: pointer;\n",
              "      display: none;\n",
              "      fill: #1967D2;\n",
              "      height: 32px;\n",
              "      padding: 0 0 0 0;\n",
              "      width: 32px;\n",
              "    }\n",
              "\n",
              "    .colab-df-convert:hover {\n",
              "      background-color: #E2EBFA;\n",
              "      box-shadow: 0px 1px 2px rgba(60, 64, 67, 0.3), 0px 1px 3px 1px rgba(60, 64, 67, 0.15);\n",
              "      fill: #174EA6;\n",
              "    }\n",
              "\n",
              "    [theme=dark] .colab-df-convert {\n",
              "      background-color: #3B4455;\n",
              "      fill: #D2E3FC;\n",
              "    }\n",
              "\n",
              "    [theme=dark] .colab-df-convert:hover {\n",
              "      background-color: #434B5C;\n",
              "      box-shadow: 0px 1px 3px 1px rgba(0, 0, 0, 0.15);\n",
              "      filter: drop-shadow(0px 1px 2px rgba(0, 0, 0, 0.3));\n",
              "      fill: #FFFFFF;\n",
              "    }\n",
              "  </style>\n",
              "\n",
              "      <script>\n",
              "        const buttonEl =\n",
              "          document.querySelector('#df-ec80eff0-d36c-4d06-91b8-33f4e0602e97 button.colab-df-convert');\n",
              "        buttonEl.style.display =\n",
              "          google.colab.kernel.accessAllowed ? 'block' : 'none';\n",
              "\n",
              "        async function convertToInteractive(key) {\n",
              "          const element = document.querySelector('#df-ec80eff0-d36c-4d06-91b8-33f4e0602e97');\n",
              "          const dataTable =\n",
              "            await google.colab.kernel.invokeFunction('convertToInteractive',\n",
              "                                                     [key], {});\n",
              "          if (!dataTable) return;\n",
              "\n",
              "          const docLinkHtml = 'Like what you see? Visit the ' +\n",
              "            '<a target=\"_blank\" href=https://colab.research.google.com/notebooks/data_table.ipynb>data table notebook</a>'\n",
              "            + ' to learn more about interactive tables.';\n",
              "          element.innerHTML = '';\n",
              "          dataTable['output_type'] = 'display_data';\n",
              "          await google.colab.output.renderOutput(dataTable, element);\n",
              "          const docLink = document.createElement('div');\n",
              "          docLink.innerHTML = docLinkHtml;\n",
              "          element.appendChild(docLink);\n",
              "        }\n",
              "      </script>\n",
              "    </div>\n",
              "  </div>\n",
              "  "
            ]
          },
          "metadata": {},
          "execution_count": 4
        }
      ]
    },
    {
      "cell_type": "code",
      "source": [
        "labels = [\"Not a Disaster\", \"Real Disaster\"]\n",
        "plt.figure(figsize=(12, 8))\n",
        "\n",
        "#define Seaborn color palette to use\n",
        "colors = sns.color_palette('muted')[0:2]\n",
        "\n",
        "#create pie chart\n",
        "plt.pie(train_tweet.groupby(\"target\").size().sort_values(ascending=False), labels = labels, colors = colors, autopct='%.2f%%')\n",
        "plt.show()"
      ],
      "metadata": {
        "colab": {
          "base_uri": "https://localhost:8080/",
          "height": 466
        },
        "id": "BILjv3GIdG_p",
        "outputId": "d31ff2ad-bfa0-406c-f05a-e9e494a01a07"
      },
      "execution_count": null,
      "outputs": [
        {
          "output_type": "display_data",
          "data": {
            "text/plain": [
              "<Figure size 864x576 with 1 Axes>"
            ],
            "image/png": "[encoded data removed]"
          },
          "metadata": {}
        }
      ]
    },
    {
      "cell_type": "markdown",
      "source": [
        "###Data cleaning"
      ],
      "metadata": {
        "id": "x39u90PZLyEK"
      }
    },
    {
      "cell_type": "code",
      "source": [
        "#remove useless feautures\n",
        "train_tweet.drop(['id','keyword','location'],axis=1,inplace=True)"
      ],
      "metadata": {
        "id": "CQU4q2MQZtnc"
      },
      "execution_count": null,
      "outputs": []
    },
    {
      "cell_type": "code",
      "source": [
        "#add two feautures for hashtag and mention\n",
        "train_tweet['Hashtag'] = train_tweet['text'].apply(lambda x: \"#\" if '#'in x else 'No-#' )\n",
        "train_tweet['Mention'] = train_tweet['text'].apply(lambda x: \"@\" if '@'in x else \"No-@\")"
      ],
      "metadata": {
        "id": "J1OomyxbUpSj"
      },
      "execution_count": null,
      "outputs": []
    },
    {
      "cell_type": "code",
      "source": [
        "sns.countplot(x='Hashtag',hue='target',data=train_tweet)"
      ],
      "metadata": {
        "colab": {
          "base_uri": "https://localhost:8080/",
          "height": 297
        },
        "id": "lCWnNXdFuyhf",
        "outputId": "e9ed0df3-a446-4808-b145-7f3e2387ea90"
      },
      "execution_count": null,
      "outputs": [
        {
          "output_type": "execute_result",
          "data": {
            "text/plain": [
              "<matplotlib.axes._subplots.AxesSubplot at 0x7efb2a2d4c90>"
            ]
          },
          "metadata": {},
          "execution_count": 13
        },
        {
          "output_type": "display_data",
          "data": {
            "text/plain": [
              "<Figure size 432x288 with 1 Axes>"
            ],
            "image/png": "[encoded data removed]"
          },
          "metadata": {
            "needs_background": "light"
          }
        }
      ]
    },
    {
      "cell_type": "code",
      "source": [
        "sns.countplot(x='Mention',hue='target',data=train_tweet)"
      ],
      "metadata": {
        "colab": {
          "base_uri": "https://localhost:8080/",
          "height": 297
        },
        "id": "OTweryyaxFUQ",
        "outputId": "933047c9-9780-4bdb-ccb4-8ce657d76969"
      },
      "execution_count": null,
      "outputs": [
        {
          "output_type": "execute_result",
          "data": {
            "text/plain": [
              "<matplotlib.axes._subplots.AxesSubplot at 0x7efb2a258510>"
            ]
          },
          "metadata": {},
          "execution_count": 14
        },
        {
          "output_type": "display_data",
          "data": {
            "text/plain": [
              "<Figure size 432x288 with 1 Axes>"
            ],
            "image/png": "[encoded data removed]"
          },
          "metadata": {
            "needs_background": "light"
          }
        }
      ]
    },
    {
      "cell_type": "code",
      "source": [
        "#remove useless feautures\n",
        "train_tweet.drop(['Hashtag','Mention'],axis=1,inplace=True)"
      ],
      "metadata": {
        "id": "X5Mno00EyYSy"
      },
      "execution_count": null,
      "outputs": []
    },
    {
      "cell_type": "markdown",
      "source": [
        "find that if the same twitt have differenet target?\n",
        "\n",
        "\n",
        "\n",
        "\n",
        "\n",
        "\n"
      ],
      "metadata": {
        "id": "6gwp6_NQVqdn"
      }
    },
    {
      "cell_type": "code",
      "source": [
        "#find if there are same tweets with different targets\n",
        "train_tweet['index_t'] = train_tweet.index # make list of originals index\n",
        "\n",
        "aggs = {'target': 'mean',\n",
        "         'index_t':lambda x: list(x)} # Keep track of the index \n",
        "grouped_df = train_tweet[train_tweet['text'].duplicated(keep=False)].groupby('text').agg(aggs) \n",
        "\n",
        "# if target mean is not equal to 0 or 1 --> we have same tweets with different targets\n",
        "dif_targets = grouped_df[(grouped_df.target!=1) & (grouped_df.target!=0)].reset_index()\n",
        "dif_targets"
      ],
      "metadata": {
        "colab": {
          "base_uri": "https://localhost:8080/",
          "height": 613
        },
        "id": "AzMvPdxYZtqH",
        "outputId": "49c2b5e1-9f2d-4ff4-bbba-621602e20838"
      },
      "execution_count": null,
      "outputs": [
        {
          "output_type": "execute_result",
          "data": {
            "text/plain": [
              "                                                 text    target  \\\n",
              "0   #Allah describes piling up #wealth thinking it...  0.333333   \n",
              "1   #foodscare #offers2go #NestleIndia slips into ...  0.666667   \n",
              "2   .POTUS #StrategicPatience is a strategy for #G...  0.750000   \n",
              "3   CLEARED:incident with injury:I-495  inner loop...  0.666667   \n",
              "4   Caution: breathing may be hazardous to your he...  0.500000   \n",
              "5   He came to a land which was engulfed in tribal...  0.333333   \n",
              "6   Hellfire is surrounded by desires so be carefu...  0.333333   \n",
              "7   Hellfire! We donÛªt even want to think about ...  0.500000   \n",
              "8   I Pledge Allegiance To The P.O.P.E. And The Bu...  0.500000   \n",
              "9   In #islam saving a person is equal in reward t...  0.500000   \n",
              "10  Mmmmmm I'm burning.... I'm burning buildings I...  0.500000   \n",
              "11  RT NotExplained: The only known image of infam...  0.500000   \n",
              "12  The Prophet (peace be upon him) said 'Save you...  0.333333   \n",
              "13                         To fight bioterrorism sir.  0.500000   \n",
              "14  Who is bringing the tornadoes and floods. Who ...  0.333333   \n",
              "15  like for the music video I want some real acti...  0.500000   \n",
              "16  that horrible sinking feeling when youÛªve be...  0.500000   \n",
              "17  wowo--=== 12000 Nigerian refugees repatriated ...  0.500000   \n",
              "\n",
              "                                 index_t  \n",
              "0                     [4290, 4299, 4312]  \n",
              "1                     [4221, 4239, 4244]  \n",
              "2               [2830, 2831, 2832, 2833]  \n",
              "3                     [4597, 4605, 4618]  \n",
              "4                           [4232, 4235]  \n",
              "5   [3240, 3243, 3248, 3251, 3261, 3266]  \n",
              "6                     [4285, 4305, 4313]  \n",
              "7                           [4306, 4320]  \n",
              "8                           [1214, 1365]  \n",
              "9                           [6614, 6616]  \n",
              "10                          [1197, 1331]  \n",
              "11                          [4379, 4381]  \n",
              "12  [4284, 4286, 4292, 4304, 4309, 4318]  \n",
              "13                  [610, 624, 630, 634]  \n",
              "14                    [3985, 4013, 4019]  \n",
              "15                          [1221, 1349]  \n",
              "16              [6091, 6094, 6103, 6123]  \n",
              "17                          [5620, 5641]  "
            ],
            "text/html": [
              "\n",
              "  <div id=\"df-b50a970e-3176-4d89-a68c-4a7b12512d09\">\n",
              "    <div class=\"colab-df-container\">\n",
              "      <div>\n",
              "<style scoped>\n",
              "    .dataframe tbody tr th:only-of-type {\n",
              "        vertical-align: middle;\n",
              "    }\n",
              "\n",
              "    .dataframe tbody tr th {\n",
              "        vertical-align: top;\n",
              "    }\n",
              "\n",
              "    .dataframe thead th {\n",
              "        text-align: right;\n",
              "    }\n",
              "</style>\n",
              "<table border=\"1\" class=\"dataframe\">\n",
              "  <thead>\n",
              "    <tr style=\"text-align: right;\">\n",
              "      <th></th>\n",
              "      <th>text</th>\n",
              "      <th>target</th>\n",
              "      <th>index_t</th>\n",
              "    </tr>\n",
              "  </thead>\n",
              "  <tbody>\n",
              "    <tr>\n",
              "      <th>0</th>\n",
              "      <td>#Allah describes piling up #wealth thinking it...</td>\n",
              "      <td>0.333333</td>\n",
              "      <td>[4290, 4299, 4312]</td>\n",
              "    </tr>\n",
              "    <tr>\n",
              "      <th>1</th>\n",
              "      <td>#foodscare #offers2go #NestleIndia slips into ...</td>\n",
              "      <td>0.666667</td>\n",
              "      <td>[4221, 4239, 4244]</td>\n",
              "    </tr>\n",
              "    <tr>\n",
              "      <th>2</th>\n",
              "      <td>.POTUS #StrategicPatience is a strategy for #G...</td>\n",
              "      <td>0.750000</td>\n",
              "      <td>[2830, 2831, 2832, 2833]</td>\n",
              "    </tr>\n",
              "    <tr>\n",
              "      <th>3</th>\n",
              "      <td>CLEARED:incident with injury:I-495  inner loop...</td>\n",
              "      <td>0.666667</td>\n",
              "      <td>[4597, 4605, 4618]</td>\n",
              "    </tr>\n",
              "    <tr>\n",
              "      <th>4</th>\n",
              "      <td>Caution: breathing may be hazardous to your he...</td>\n",
              "      <td>0.500000</td>\n",
              "      <td>[4232, 4235]</td>\n",
              "    </tr>\n",
              "    <tr>\n",
              "      <th>5</th>\n",
              "      <td>He came to a land which was engulfed in tribal...</td>\n",
              "      <td>0.333333</td>\n",
              "      <td>[3240, 3243, 3248, 3251, 3261, 3266]</td>\n",
              "    </tr>\n",
              "    <tr>\n",
              "      <th>6</th>\n",
              "      <td>Hellfire is surrounded by desires so be carefu...</td>\n",
              "      <td>0.333333</td>\n",
              "      <td>[4285, 4305, 4313]</td>\n",
              "    </tr>\n",
              "    <tr>\n",
              "      <th>7</th>\n",
              "      <td>Hellfire! We donÛªt even want to think about ...</td>\n",
              "      <td>0.500000</td>\n",
              "      <td>[4306, 4320]</td>\n",
              "    </tr>\n",
              "    <tr>\n",
              "      <th>8</th>\n",
              "      <td>I Pledge Allegiance To The P.O.P.E. And The Bu...</td>\n",
              "      <td>0.500000</td>\n",
              "      <td>[1214, 1365]</td>\n",
              "    </tr>\n",
              "    <tr>\n",
              "      <th>9</th>\n",
              "      <td>In #islam saving a person is equal in reward t...</td>\n",
              "      <td>0.500000</td>\n",
              "      <td>[6614, 6616]</td>\n",
              "    </tr>\n",
              "    <tr>\n",
              "      <th>10</th>\n",
              "      <td>Mmmmmm I'm burning.... I'm burning buildings I...</td>\n",
              "      <td>0.500000</td>\n",
              "      <td>[1197, 1331]</td>\n",
              "    </tr>\n",
              "    <tr>\n",
              "      <th>11</th>\n",
              "      <td>RT NotExplained: The only known image of infam...</td>\n",
              "      <td>0.500000</td>\n",
              "      <td>[4379, 4381]</td>\n",
              "    </tr>\n",
              "    <tr>\n",
              "      <th>12</th>\n",
              "      <td>The Prophet (peace be upon him) said 'Save you...</td>\n",
              "      <td>0.333333</td>\n",
              "      <td>[4284, 4286, 4292, 4304, 4309, 4318]</td>\n",
              "    </tr>\n",
              "    <tr>\n",
              "      <th>13</th>\n",
              "      <td>To fight bioterrorism sir.</td>\n",
              "      <td>0.500000</td>\n",
              "      <td>[610, 624, 630, 634]</td>\n",
              "    </tr>\n",
              "    <tr>\n",
              "      <th>14</th>\n",
              "      <td>Who is bringing the tornadoes and floods. Who ...</td>\n",
              "      <td>0.333333</td>\n",
              "      <td>[3985, 4013, 4019]</td>\n",
              "    </tr>\n",
              "    <tr>\n",
              "      <th>15</th>\n",
              "      <td>like for the music video I want some real acti...</td>\n",
              "      <td>0.500000</td>\n",
              "      <td>[1221, 1349]</td>\n",
              "    </tr>\n",
              "    <tr>\n",
              "      <th>16</th>\n",
              "      <td>that horrible sinking feeling when youÛªve be...</td>\n",
              "      <td>0.500000</td>\n",
              "      <td>[6091, 6094, 6103, 6123]</td>\n",
              "    </tr>\n",
              "    <tr>\n",
              "      <th>17</th>\n",
              "      <td>wowo--=== 12000 Nigerian refugees repatriated ...</td>\n",
              "      <td>0.500000</td>\n",
              "      <td>[5620, 5641]</td>\n",
              "    </tr>\n",
              "  </tbody>\n",
              "</table>\n",
              "</div>\n",
              "      <button class=\"colab-df-convert\" onclick=\"convertToInteractive('df-b50a970e-3176-4d89-a68c-4a7b12512d09')\"\n",
              "              title=\"Convert this dataframe to an interactive table.\"\n",
              "              style=\"display:none;\">\n",
              "        \n",
              "  <svg xmlns=\"http://www.w3.org/2000/svg\" height=\"24px\"viewBox=\"0 0 24 24\"\n",
              "       width=\"24px\">\n",
              "    <path d=\"M0 0h24v24H0V0z\" fill=\"none\"/>\n",
              "    <path d=\"M18.56 5.44l.94 2.06.94-2.06 2.06-.94-2.06-.94-.94-2.06-.94 2.06-2.06.94zm-11 1L8.5 8.5l.94-2.06 2.06-.94-2.06-.94L8.5 2.5l-.94 2.06-2.06.94zm10 10l.94 2.06.94-2.06 2.06-.94-2.06-.94-.94-2.06-.94 2.06-2.06.94z\"/><path d=\"M17.41 7.96l-1.37-1.37c-.4-.4-.92-.59-1.43-.59-.52 0-1.04.2-1.43.59L10.3 9.45l-7.72 7.72c-.78.78-.78 2.05 0 2.83L4 21.41c.39.39.9.59 1.41.59.51 0 1.02-.2 1.41-.59l7.78-7.78 2.81-2.81c.8-.78.8-2.07 0-2.86zM5.41 20L4 18.59l7.72-7.72 1.47 1.35L5.41 20z\"/>\n",
              "  </svg>\n",
              "      </button>\n",
              "      \n",
              "  <style>\n",
              "    .colab-df-container {\n",
              "      display:flex;\n",
              "      flex-wrap:wrap;\n",
              "      gap: 12px;\n",
              "    }\n",
              "\n",
              "    .colab-df-convert {\n",
              "      background-color: #E8F0FE;\n",
              "      border: none;\n",
              "      border-radius: 50%;\n",
              "      cursor: pointer;\n",
              "      display: none;\n",
              "      fill: #1967D2;\n",
              "      height: 32px;\n",
              "      padding: 0 0 0 0;\n",
              "      width: 32px;\n",
              "    }\n",
              "\n",
              "    .colab-df-convert:hover {\n",
              "      background-color: #E2EBFA;\n",
              "      box-shadow: 0px 1px 2px rgba(60, 64, 67, 0.3), 0px 1px 3px 1px rgba(60, 64, 67, 0.15);\n",
              "      fill: #174EA6;\n",
              "    }\n",
              "\n",
              "    [theme=dark] .colab-df-convert {\n",
              "      background-color: #3B4455;\n",
              "      fill: #D2E3FC;\n",
              "    }\n",
              "\n",
              "    [theme=dark] .colab-df-convert:hover {\n",
              "      background-color: #434B5C;\n",
              "      box-shadow: 0px 1px 3px 1px rgba(0, 0, 0, 0.15);\n",
              "      filter: drop-shadow(0px 1px 2px rgba(0, 0, 0, 0.3));\n",
              "      fill: #FFFFFF;\n",
              "    }\n",
              "  </style>\n",
              "\n",
              "      <script>\n",
              "        const buttonEl =\n",
              "          document.querySelector('#df-b50a970e-3176-4d89-a68c-4a7b12512d09 button.colab-df-convert');\n",
              "        buttonEl.style.display =\n",
              "          google.colab.kernel.accessAllowed ? 'block' : 'none';\n",
              "\n",
              "        async function convertToInteractive(key) {\n",
              "          const element = document.querySelector('#df-b50a970e-3176-4d89-a68c-4a7b12512d09');\n",
              "          const dataTable =\n",
              "            await google.colab.kernel.invokeFunction('convertToInteractive',\n",
              "                                                     [key], {});\n",
              "          if (!dataTable) return;\n",
              "\n",
              "          const docLinkHtml = 'Like what you see? Visit the ' +\n",
              "            '<a target=\"_blank\" href=https://colab.research.google.com/notebooks/data_table.ipynb>data table notebook</a>'\n",
              "            + ' to learn more about interactive tables.';\n",
              "          element.innerHTML = '';\n",
              "          dataTable['output_type'] = 'display_data';\n",
              "          await google.colab.output.renderOutput(dataTable, element);\n",
              "          const docLink = document.createElement('div');\n",
              "          docLink.innerHTML = docLinkHtml;\n",
              "          element.appendChild(docLink);\n",
              "        }\n",
              "      </script>\n",
              "    </div>\n",
              "  </div>\n",
              "  "
            ]
          },
          "metadata": {},
          "execution_count": 15
        }
      ]
    },
    {
      "cell_type": "markdown",
      "source": [
        "so if the mean of target for same tweets is greater than 0.5 I change all of targets to 1, if the mean is less than 0.5 I change it to 0 and  i remove the tweets if the mean =0.5\n",
        "then I remove repeated tweets and  do re index"
      ],
      "metadata": {
        "id": "vYCzlWR4WM6p"
      }
    },
    {
      "cell_type": "code",
      "source": [
        "for ind in range(len(dif_targets.index)):\n",
        "  if dif_targets.target[ind]>0.5:\n",
        "    for l in dif_targets.index_t[ind]:\n",
        "      train_tweet.target[l]=1\n",
        "  elif dif_targets.target[ind]<0.5: \n",
        "    for l in dif_targets.index_t[ind]:\n",
        "      train_tweet.target[l]=0\n",
        "  else:\n",
        "    train_tweet.drop(dif_targets.index_t[ind],inplace=True)\n",
        " \n",
        "\n",
        "train_tweet.drop_duplicates(keep='first',inplace=True)\n"
      ],
      "metadata": {
        "colab": {
          "base_uri": "https://localhost:8080/"
        },
        "id": "KQ_iQEgqZtsz",
        "outputId": "cd50cad5-f750-45df-b030-ebc370465432"
      },
      "execution_count": null,
      "outputs": [
        {
          "output_type": "stream",
          "name": "stderr",
          "text": [
            "/usr/local/lib/python3.7/dist-packages/ipykernel_launcher.py:7: SettingWithCopyWarning: \n",
            "A value is trying to be set on a copy of a slice from a DataFrame\n",
            "\n",
            "See the caveats in the documentation: https://pandas.pydata.org/pandas-docs/stable/user_guide/indexing.html#returning-a-view-versus-a-copy\n",
            "  import sys\n",
            "/usr/local/lib/python3.7/dist-packages/ipykernel_launcher.py:4: SettingWithCopyWarning: \n",
            "A value is trying to be set on a copy of a slice from a DataFrame\n",
            "\n",
            "See the caveats in the documentation: https://pandas.pydata.org/pandas-docs/stable/user_guide/indexing.html#returning-a-view-versus-a-copy\n",
            "  after removing the cwd from sys.path.\n"
          ]
        }
      ]
    },
    {
      "cell_type": "code",
      "source": [
        "train_tweet.shape"
      ],
      "metadata": {
        "colab": {
          "base_uri": "https://localhost:8080/"
        },
        "id": "sQ4JrNKei7uy",
        "outputId": "27715528-3288-43f5-a7b2-6d8f12f59b66"
      },
      "execution_count": null,
      "outputs": [
        {
          "output_type": "execute_result",
          "data": {
            "text/plain": [
              "(7589, 5)"
            ]
          },
          "metadata": {},
          "execution_count": 17
        }
      ]
    },
    {
      "cell_type": "markdown",
      "source": [
        "#clean text"
      ],
      "metadata": {
        "id": "FkHaiKD9qERO"
      }
    },
    {
      "cell_type": "code",
      "source": [
        "# Function to clean the text\n",
        "def clean_text(text):\n",
        "    # remove punctuation\n",
        "    text = ''.join([c for c in text if c not in r\"[!\\\"#@$%&()'‰ûª*+,-./:;<=>?[\\\\\\]^_`{|}~]+\"]) \n",
        "    # remove stopwords\n",
        "    text = ' '.join([c for c in text.split() if c not in STOP_WORDS])\n",
        "    # remove numbers\n",
        "    text = ''.join([c for c in text if not c.isdigit()])\n",
        "    # lowercase\n",
        "    text = ' '.join(text.split()).lower()\n",
        "    # lemmatize\n",
        "    text = ' '.join([c.lemma_ for c in nlp(text)])\n",
        "    # remove words starting by http\n",
        "    text = ' '.join([c for c in text.split() if not c.startswith(\"http\")])\n",
        "    \n",
        "    return text"
      ],
      "metadata": {
        "id": "t3K4LIf_TZe5"
      },
      "execution_count": null,
      "outputs": []
    },
    {
      "cell_type": "code",
      "source": [
        "train_tweet[\"text_clean\"] = train_tweet[\"text\"].apply(clean_text)\n"
      ],
      "metadata": {
        "id": "mMrBhqhFUD99"
      },
      "execution_count": null,
      "outputs": []
    },
    {
      "cell_type": "markdown",
      "source": [
        "##Tokenization and Padding cleaned text"
      ],
      "metadata": {
        "id": "lKz6lHqWy6YI"
      }
    },
    {
      "cell_type": "code",
      "source": [
        "import tensorflow as tf\n",
        "from tensorflow.keras.preprocessing.text import Tokenizer\n",
        "from tensorflow.keras.preprocessing.sequence import pad_sequences"
      ],
      "metadata": {
        "id": "21Y92jirN9_M"
      },
      "execution_count": null,
      "outputs": []
    },
    {
      "cell_type": "code",
      "source": [
        "# Creation of a tokenizer\n",
        "tokenizer = tf.keras.preprocessing.text.Tokenizer(num_words=10000)\n",
        "\n",
        "# Training the tokenizer on the training set\n",
        "tokenizer.fit_on_texts(train_tweet['text_clean'])\n",
        "\n",
        "# Transform the text into sequences of integers\n",
        "train_tweet[\"text_encoded\"] = tokenizer.texts_to_sequences(train_tweet[\"text_clean\"])\n",
        "\n",
        "train_tweet.head()"
      ],
      "metadata": {
        "colab": {
          "base_uri": "https://localhost:8080/",
          "height": 319
        },
        "id": "uHuFrR39V2Ex",
        "outputId": "4c946e35-5ab4-4e36-fca5-a8b4d1902dcc"
      },
      "execution_count": null,
      "outputs": [
        {
          "output_type": "execute_result",
          "data": {
            "text/plain": [
              "                                                text  target  index_t  \\\n",
              "0  Our Deeds are the Reason of this #earthquake M...       1        0   \n",
              "1             Forest fire near La Ronge Sask. Canada       1        1   \n",
              "2  All residents asked to 'shelter in place' are ...       1        2   \n",
              "3  13,000 people receive #wildfires evacuation or...       1        3   \n",
              "4  Just got sent this photo from Ruby #Alaska as ...       1        4   \n",
              "\n",
              "                                          text_clean  \\\n",
              "0       our deed reason earthquake may allah forgive   \n",
              "1              forest fire near la ronge sask canada   \n",
              "2  all resident ask shelter place notify officer ...   \n",
              "3  people receive wildfire evacuation order calif...   \n",
              "4  just got send photo ruby alaska smoke wildfire...   \n",
              "\n",
              "                                        text_encoded  \n",
              "0             [560, 3713, 459, 216, 863, 1342, 1789]  \n",
              "1               [157, 6, 201, 561, 5495, 5496, 1101]  \n",
              "2  [116, 1607, 507, 1790, 386, 5497, 354, 139, 22...  \n",
              "3                      [15, 2378, 104, 220, 341, 51]  \n",
              "4  [202, 316, 221, 161, 5498, 1791, 247, 104, 237...  "
            ],
            "text/html": [
              "\n",
              "  <div id=\"df-0402798b-863a-4ec3-9185-d971d6713d03\">\n",
              "    <div class=\"colab-df-container\">\n",
              "      <div>\n",
              "<style scoped>\n",
              "    .dataframe tbody tr th:only-of-type {\n",
              "        vertical-align: middle;\n",
              "    }\n",
              "\n",
              "    .dataframe tbody tr th {\n",
              "        vertical-align: top;\n",
              "    }\n",
              "\n",
              "    .dataframe thead th {\n",
              "        text-align: right;\n",
              "    }\n",
              "</style>\n",
              "<table border=\"1\" class=\"dataframe\">\n",
              "  <thead>\n",
              "    <tr style=\"text-align: right;\">\n",
              "      <th></th>\n",
              "      <th>text</th>\n",
              "      <th>target</th>\n",
              "      <th>index_t</th>\n",
              "      <th>text_clean</th>\n",
              "      <th>text_encoded</th>\n",
              "    </tr>\n",
              "  </thead>\n",
              "  <tbody>\n",
              "    <tr>\n",
              "      <th>0</th>\n",
              "      <td>Our Deeds are the Reason of this #earthquake M...</td>\n",
              "      <td>1</td>\n",
              "      <td>0</td>\n",
              "      <td>our deed reason earthquake may allah forgive</td>\n",
              "      <td>[560, 3713, 459, 216, 863, 1342, 1789]</td>\n",
              "    </tr>\n",
              "    <tr>\n",
              "      <th>1</th>\n",
              "      <td>Forest fire near La Ronge Sask. Canada</td>\n",
              "      <td>1</td>\n",
              "      <td>1</td>\n",
              "      <td>forest fire near la ronge sask canada</td>\n",
              "      <td>[157, 6, 201, 561, 5495, 5496, 1101]</td>\n",
              "    </tr>\n",
              "    <tr>\n",
              "      <th>2</th>\n",
              "      <td>All residents asked to 'shelter in place' are ...</td>\n",
              "      <td>1</td>\n",
              "      <td>2</td>\n",
              "      <td>all resident ask shelter place notify officer ...</td>\n",
              "      <td>[116, 1607, 507, 1790, 386, 5497, 354, 139, 22...</td>\n",
              "    </tr>\n",
              "    <tr>\n",
              "      <th>3</th>\n",
              "      <td>13,000 people receive #wildfires evacuation or...</td>\n",
              "      <td>1</td>\n",
              "      <td>3</td>\n",
              "      <td>people receive wildfire evacuation order calif...</td>\n",
              "      <td>[15, 2378, 104, 220, 341, 51]</td>\n",
              "    </tr>\n",
              "    <tr>\n",
              "      <th>4</th>\n",
              "      <td>Just got sent this photo from Ruby #Alaska as ...</td>\n",
              "      <td>1</td>\n",
              "      <td>4</td>\n",
              "      <td>just got send photo ruby alaska smoke wildfire...</td>\n",
              "      <td>[202, 316, 221, 161, 5498, 1791, 247, 104, 237...</td>\n",
              "    </tr>\n",
              "  </tbody>\n",
              "</table>\n",
              "</div>\n",
              "      <button class=\"colab-df-convert\" onclick=\"convertToInteractive('df-0402798b-863a-4ec3-9185-d971d6713d03')\"\n",
              "              title=\"Convert this dataframe to an interactive table.\"\n",
              "              style=\"display:none;\">\n",
              "        \n",
              "  <svg xmlns=\"http://www.w3.org/2000/svg\" height=\"24px\"viewBox=\"0 0 24 24\"\n",
              "       width=\"24px\">\n",
              "    <path d=\"M0 0h24v24H0V0z\" fill=\"none\"/>\n",
              "    <path d=\"M18.56 5.44l.94 2.06.94-2.06 2.06-.94-2.06-.94-.94-2.06-.94 2.06-2.06.94zm-11 1L8.5 8.5l.94-2.06 2.06-.94-2.06-.94L8.5 2.5l-.94 2.06-2.06.94zm10 10l.94 2.06.94-2.06 2.06-.94-2.06-.94-.94-2.06-.94 2.06-2.06.94z\"/><path d=\"M17.41 7.96l-1.37-1.37c-.4-.4-.92-.59-1.43-.59-.52 0-1.04.2-1.43.59L10.3 9.45l-7.72 7.72c-.78.78-.78 2.05 0 2.83L4 21.41c.39.39.9.59 1.41.59.51 0 1.02-.2 1.41-.59l7.78-7.78 2.81-2.81c.8-.78.8-2.07 0-2.86zM5.41 20L4 18.59l7.72-7.72 1.47 1.35L5.41 20z\"/>\n",
              "  </svg>\n",
              "      </button>\n",
              "      \n",
              "  <style>\n",
              "    .colab-df-container {\n",
              "      display:flex;\n",
              "      flex-wrap:wrap;\n",
              "      gap: 12px;\n",
              "    }\n",
              "\n",
              "    .colab-df-convert {\n",
              "      background-color: #E8F0FE;\n",
              "      border: none;\n",
              "      border-radius: 50%;\n",
              "      cursor: pointer;\n",
              "      display: none;\n",
              "      fill: #1967D2;\n",
              "      height: 32px;\n",
              "      padding: 0 0 0 0;\n",
              "      width: 32px;\n",
              "    }\n",
              "\n",
              "    .colab-df-convert:hover {\n",
              "      background-color: #E2EBFA;\n",
              "      box-shadow: 0px 1px 2px rgba(60, 64, 67, 0.3), 0px 1px 3px 1px rgba(60, 64, 67, 0.15);\n",
              "      fill: #174EA6;\n",
              "    }\n",
              "\n",
              "    [theme=dark] .colab-df-convert {\n",
              "      background-color: #3B4455;\n",
              "      fill: #D2E3FC;\n",
              "    }\n",
              "\n",
              "    [theme=dark] .colab-df-convert:hover {\n",
              "      background-color: #434B5C;\n",
              "      box-shadow: 0px 1px 3px 1px rgba(0, 0, 0, 0.15);\n",
              "      filter: drop-shadow(0px 1px 2px rgba(0, 0, 0, 0.3));\n",
              "      fill: #FFFFFF;\n",
              "    }\n",
              "  </style>\n",
              "\n",
              "      <script>\n",
              "        const buttonEl =\n",
              "          document.querySelector('#df-0402798b-863a-4ec3-9185-d971d6713d03 button.colab-df-convert');\n",
              "        buttonEl.style.display =\n",
              "          google.colab.kernel.accessAllowed ? 'block' : 'none';\n",
              "\n",
              "        async function convertToInteractive(key) {\n",
              "          const element = document.querySelector('#df-0402798b-863a-4ec3-9185-d971d6713d03');\n",
              "          const dataTable =\n",
              "            await google.colab.kernel.invokeFunction('convertToInteractive',\n",
              "                                                     [key], {});\n",
              "          if (!dataTable) return;\n",
              "\n",
              "          const docLinkHtml = 'Like what you see? Visit the ' +\n",
              "            '<a target=\"_blank\" href=https://colab.research.google.com/notebooks/data_table.ipynb>data table notebook</a>'\n",
              "            + ' to learn more about interactive tables.';\n",
              "          element.innerHTML = '';\n",
              "          dataTable['output_type'] = 'display_data';\n",
              "          await google.colab.output.renderOutput(dataTable, element);\n",
              "          const docLink = document.createElement('div');\n",
              "          docLink.innerHTML = docLinkHtml;\n",
              "          element.appendChild(docLink);\n",
              "        }\n",
              "      </script>\n",
              "    </div>\n",
              "  </div>\n",
              "  "
            ]
          },
          "metadata": {},
          "execution_count": 26
        }
      ]
    },
    {
      "cell_type": "code",
      "source": [
        "text_pad = tf.keras.preprocessing.sequence.pad_sequences(train_tweet[\"text_encoded\"], padding=\"post\")\n"
      ],
      "metadata": {
        "id": "AjpAjmOaOs7v"
      },
      "execution_count": null,
      "outputs": []
    },
    {
      "cell_type": "code",
      "source": [
        "train_tweet.reset_index(drop=True, inplace=True)\n",
        "train_tweet.drop(['index_t'],axis=1,inplace=True)\n",
        "train_tweet.tail()"
      ],
      "metadata": {
        "colab": {
          "base_uri": "https://localhost:8080/",
          "height": 337
        },
        "id": "CWgDYakQW40X",
        "outputId": "b5b9f063-99e2-4aca-90c8-2e9ce862dfcb"
      },
      "execution_count": null,
      "outputs": [
        {
          "output_type": "execute_result",
          "data": {
            "text/plain": [
              "                                                   text  target  \\\n",
              "7584  Two giant cranes holding a bridge collapse int...       1   \n",
              "7585  @aria_ahrary @TheTawniest The out of control w...       1   \n",
              "7586  M1.94 [01:04 UTC]?5km S of Volcano Hawaii. htt...       1   \n",
              "7587  Police investigating after an e-bike collided ...       1   \n",
              "7588  The Latest: More Homes Razed by Northern Calif...       1   \n",
              "\n",
              "                                             text_clean  \\\n",
              "7584   two giant crane hold bridge collapse nearby home   \n",
              "7585  ariaahrary thetawniest the control wild fire c...   \n",
              "7586                           m utckm s volcano hawaii   \n",
              "7587  police investigate ebike collided car little p...   \n",
              "7588  the late more home raze northern california wi...   \n",
              "\n",
              "                                           text_encoded  \n",
              "7584            [289, 696, 1015, 382, 303, 55, 553, 39]  \n",
              "7585  [5471, 5472, 2, 605, 270, 6, 51, 170, 232, 173...  \n",
              "7586                           [7, 3472, 11, 469, 1331]  \n",
              "7587  [34, 801, 2631, 2632, 58, 254, 4324, 2631, 161...  \n",
              "7588      [2, 144, 111, 39, 425, 170, 51, 104, 525, 17]  "
            ],
            "text/html": [
              "\n",
              "  <div id=\"df-e0901e0b-3eab-4722-aae7-f902bae306cc\">\n",
              "    <div class=\"colab-df-container\">\n",
              "      <div>\n",
              "<style scoped>\n",
              "    .dataframe tbody tr th:only-of-type {\n",
              "        vertical-align: middle;\n",
              "    }\n",
              "\n",
              "    .dataframe tbody tr th {\n",
              "        vertical-align: top;\n",
              "    }\n",
              "\n",
              "    .dataframe thead th {\n",
              "        text-align: right;\n",
              "    }\n",
              "</style>\n",
              "<table border=\"1\" class=\"dataframe\">\n",
              "  <thead>\n",
              "    <tr style=\"text-align: right;\">\n",
              "      <th></th>\n",
              "      <th>text</th>\n",
              "      <th>target</th>\n",
              "      <th>text_clean</th>\n",
              "      <th>text_encoded</th>\n",
              "    </tr>\n",
              "  </thead>\n",
              "  <tbody>\n",
              "    <tr>\n",
              "      <th>7584</th>\n",
              "      <td>Two giant cranes holding a bridge collapse int...</td>\n",
              "      <td>1</td>\n",
              "      <td>two giant crane hold bridge collapse nearby home</td>\n",
              "      <td>[289, 696, 1015, 382, 303, 55, 553, 39]</td>\n",
              "    </tr>\n",
              "    <tr>\n",
              "      <th>7585</th>\n",
              "      <td>@aria_ahrary @TheTawniest The out of control w...</td>\n",
              "      <td>1</td>\n",
              "      <td>ariaahrary thetawniest the control wild fire c...</td>\n",
              "      <td>[5471, 5472, 2, 605, 270, 6, 51, 170, 232, 173...</td>\n",
              "    </tr>\n",
              "    <tr>\n",
              "      <th>7586</th>\n",
              "      <td>M1.94 [01:04 UTC]?5km S of Volcano Hawaii. htt...</td>\n",
              "      <td>1</td>\n",
              "      <td>m utckm s volcano hawaii</td>\n",
              "      <td>[7, 3472, 11, 469, 1331]</td>\n",
              "    </tr>\n",
              "    <tr>\n",
              "      <th>7587</th>\n",
              "      <td>Police investigating after an e-bike collided ...</td>\n",
              "      <td>1</td>\n",
              "      <td>police investigate ebike collided car little p...</td>\n",
              "      <td>[34, 801, 2631, 2632, 58, 254, 4324, 2631, 161...</td>\n",
              "    </tr>\n",
              "    <tr>\n",
              "      <th>7588</th>\n",
              "      <td>The Latest: More Homes Razed by Northern Calif...</td>\n",
              "      <td>1</td>\n",
              "      <td>the late more home raze northern california wi...</td>\n",
              "      <td>[2, 144, 111, 39, 425, 170, 51, 104, 525, 17]</td>\n",
              "    </tr>\n",
              "  </tbody>\n",
              "</table>\n",
              "</div>\n",
              "      <button class=\"colab-df-convert\" onclick=\"convertToInteractive('df-e0901e0b-3eab-4722-aae7-f902bae306cc')\"\n",
              "              title=\"Convert this dataframe to an interactive table.\"\n",
              "              style=\"display:none;\">\n",
              "        \n",
              "  <svg xmlns=\"http://www.w3.org/2000/svg\" height=\"24px\"viewBox=\"0 0 24 24\"\n",
              "       width=\"24px\">\n",
              "    <path d=\"M0 0h24v24H0V0z\" fill=\"none\"/>\n",
              "    <path d=\"M18.56 5.44l.94 2.06.94-2.06 2.06-.94-2.06-.94-.94-2.06-.94 2.06-2.06.94zm-11 1L8.5 8.5l.94-2.06 2.06-.94-2.06-.94L8.5 2.5l-.94 2.06-2.06.94zm10 10l.94 2.06.94-2.06 2.06-.94-2.06-.94-.94-2.06-.94 2.06-2.06.94z\"/><path d=\"M17.41 7.96l-1.37-1.37c-.4-.4-.92-.59-1.43-.59-.52 0-1.04.2-1.43.59L10.3 9.45l-7.72 7.72c-.78.78-.78 2.05 0 2.83L4 21.41c.39.39.9.59 1.41.59.51 0 1.02-.2 1.41-.59l7.78-7.78 2.81-2.81c.8-.78.8-2.07 0-2.86zM5.41 20L4 18.59l7.72-7.72 1.47 1.35L5.41 20z\"/>\n",
              "  </svg>\n",
              "      </button>\n",
              "      \n",
              "  <style>\n",
              "    .colab-df-container {\n",
              "      display:flex;\n",
              "      flex-wrap:wrap;\n",
              "      gap: 12px;\n",
              "    }\n",
              "\n",
              "    .colab-df-convert {\n",
              "      background-color: #E8F0FE;\n",
              "      border: none;\n",
              "      border-radius: 50%;\n",
              "      cursor: pointer;\n",
              "      display: none;\n",
              "      fill: #1967D2;\n",
              "      height: 32px;\n",
              "      padding: 0 0 0 0;\n",
              "      width: 32px;\n",
              "    }\n",
              "\n",
              "    .colab-df-convert:hover {\n",
              "      background-color: #E2EBFA;\n",
              "      box-shadow: 0px 1px 2px rgba(60, 64, 67, 0.3), 0px 1px 3px 1px rgba(60, 64, 67, 0.15);\n",
              "      fill: #174EA6;\n",
              "    }\n",
              "\n",
              "    [theme=dark] .colab-df-convert {\n",
              "      background-color: #3B4455;\n",
              "      fill: #D2E3FC;\n",
              "    }\n",
              "\n",
              "    [theme=dark] .colab-df-convert:hover {\n",
              "      background-color: #434B5C;\n",
              "      box-shadow: 0px 1px 3px 1px rgba(0, 0, 0, 0.15);\n",
              "      filter: drop-shadow(0px 1px 2px rgba(0, 0, 0, 0.3));\n",
              "      fill: #FFFFFF;\n",
              "    }\n",
              "  </style>\n",
              "\n",
              "      <script>\n",
              "        const buttonEl =\n",
              "          document.querySelector('#df-e0901e0b-3eab-4722-aae7-f902bae306cc button.colab-df-convert');\n",
              "        buttonEl.style.display =\n",
              "          google.colab.kernel.accessAllowed ? 'block' : 'none';\n",
              "\n",
              "        async function convertToInteractive(key) {\n",
              "          const element = document.querySelector('#df-e0901e0b-3eab-4722-aae7-f902bae306cc');\n",
              "          const dataTable =\n",
              "            await google.colab.kernel.invokeFunction('convertToInteractive',\n",
              "                                                     [key], {});\n",
              "          if (!dataTable) return;\n",
              "\n",
              "          const docLinkHtml = 'Like what you see? Visit the ' +\n",
              "            '<a target=\"_blank\" href=https://colab.research.google.com/notebooks/data_table.ipynb>data table notebook</a>'\n",
              "            + ' to learn more about interactive tables.';\n",
              "          element.innerHTML = '';\n",
              "          dataTable['output_type'] = 'display_data';\n",
              "          await google.colab.output.renderOutput(dataTable, element);\n",
              "          const docLink = document.createElement('div');\n",
              "          docLink.innerHTML = docLinkHtml;\n",
              "          element.appendChild(docLink);\n",
              "        }\n",
              "      </script>\n",
              "    </div>\n",
              "  </div>\n",
              "  "
            ]
          },
          "metadata": {},
          "execution_count": 30
        }
      ]
    },
    {
      "cell_type": "code",
      "source": [
        "#preprosses test\n",
        "test_tweet[\"text_clean\"] = test_tweet[\"text\"].apply(clean_text)\n",
        "# Creation of a tokenizer\n",
        "tokenizer = tf.keras.preprocessing.text.Tokenizer(num_words=10000)\n",
        "\n",
        "# Training the tokenizer on the training set\n",
        "tokenizer.fit_on_texts(test_tweet['text_clean'])\n",
        "\n",
        "# Transform the text into sequences of integers\n",
        "test_tweet[\"text_encoded\"] = tokenizer.texts_to_sequences(test_tweet[\"text_clean\"])\n",
        "text_pad_test = tf.keras.preprocessing.sequence.pad_sequences(test_tweet[\"text_encoded\"], padding=\"post\")"
      ],
      "metadata": {
        "id": "ywIVSKiXVatg"
      },
      "execution_count": null,
      "outputs": []
    },
    {
      "cell_type": "code",
      "source": [
        "X= text_pad\n",
        "Y= train_tweet.target\n"
      ],
      "metadata": {
        "id": "PYEPm01BPXhC"
      },
      "execution_count": null,
      "outputs": []
    },
    {
      "cell_type": "code",
      "source": [
        "X_train, X_val, y_train, y_val = train_test_split(X, Y, test_size = 0.20, random_state = 0)\n"
      ],
      "metadata": {
        "id": "mxrvzXW94_gI"
      },
      "execution_count": null,
      "outputs": []
    },
    {
      "cell_type": "code",
      "source": [
        "X_val"
      ],
      "metadata": {
        "colab": {
          "base_uri": "https://localhost:8080/"
        },
        "id": "-IKiWoKT05NX",
        "outputId": "e8e8bd6f-4372-45f8-eb40-2d3275ac741d"
      },
      "execution_count": null,
      "outputs": [
        {
          "output_type": "execute_result",
          "data": {
            "text/plain": [
              "array([[ 680,  680,  680, ...,    0,    0,    0],\n",
              "       [ 313,   15,  276, ...,    0,    0,    0],\n",
              "       [ 114,  180,  473, ...,    0,    0,    0],\n",
              "       ...,\n",
              "       [   8,    3,  127, ...,    0,    0,    0],\n",
              "       [ 205,  111, 3505, ...,    0,    0,    0],\n",
              "       [ 460,  401,  139, ...,    0,    0,    0]], dtype=int32)"
            ]
          },
          "metadata": {},
          "execution_count": 41
        }
      ]
    },
    {
      "cell_type": "code",
      "source": [
        "from sklearn.linear_model import LogisticRegression\n",
        "model = LogisticRegression().fit(X_train, y_train)\n",
        "\n",
        "y_pred = model.predict(X_val)"
      ],
      "metadata": {
        "id": "uiQEZnpYYXIO",
        "colab": {
          "base_uri": "https://localhost:8080/"
        },
        "outputId": "45700044-f9f0-48cf-92c3-edc49174228d"
      },
      "execution_count": null,
      "outputs": [
        {
          "output_type": "stream",
          "name": "stderr",
          "text": [
            "/usr/local/lib/python3.7/dist-packages/sklearn/linear_model/_logistic.py:818: ConvergenceWarning: lbfgs failed to converge (status=1):\n",
            "STOP: TOTAL NO. of ITERATIONS REACHED LIMIT.\n",
            "\n",
            "Increase the number of iterations (max_iter) or scale the data as shown in:\n",
            "    https://scikit-learn.org/stable/modules/preprocessing.html\n",
            "Please also refer to the documentation for alternative solver options:\n",
            "    https://scikit-learn.org/stable/modules/linear_model.html#logistic-regression\n",
            "  extra_warning_msg=_LOGISTIC_SOLVER_CONVERGENCE_MSG,\n"
          ]
        }
      ]
    },
    {
      "cell_type": "code",
      "source": [
        "from sklearn.metrics import confusion_matrix\n",
        "confusion_m = confusion_matrix(y_val, y_pred)\n",
        "print(confusion_m)\n",
        "\n",
        "from sklearn.metrics import accuracy_score, precision_score, recall_score\n",
        "acc = accuracy_score(y_val, y_pred)\n",
        "rec = recall_score(y_val, y_pred)\n",
        "prec = precision_score(y_val, y_pred)\n"
      ],
      "metadata": {
        "colab": {
          "base_uri": "https://localhost:8080/"
        },
        "id": "jDj269qDZfB7",
        "outputId": "24103d33-511e-4a8d-a81e-dcfce5f671b3"
      },
      "execution_count": null,
      "outputs": [
        {
          "output_type": "stream",
          "name": "stdout",
          "text": [
            "[[821  40]\n",
            " [610  47]]\n"
          ]
        }
      ]
    },
    {
      "cell_type": "code",
      "source": [
        "acc"
      ],
      "metadata": {
        "colab": {
          "base_uri": "https://localhost:8080/"
        },
        "id": "xIHTOkti5I4S",
        "outputId": "92d0572b-abd8-4b84-d3e8-30367a5edf87"
      },
      "execution_count": null,
      "outputs": [
        {
          "output_type": "execute_result",
          "data": {
            "text/plain": [
              "0.5718050065876152"
            ]
          },
          "metadata": {},
          "execution_count": 50
        }
      ]
    },
    {
      "cell_type": "code",
      "source": [
        "rec"
      ],
      "metadata": {
        "colab": {
          "base_uri": "https://localhost:8080/"
        },
        "id": "KDRRWf3t5Pkl",
        "outputId": "e9de9e8c-9484-402e-e316-0d98ca40bc4b"
      },
      "execution_count": null,
      "outputs": [
        {
          "output_type": "execute_result",
          "data": {
            "text/plain": [
              "0.0715372907153729"
            ]
          },
          "metadata": {},
          "execution_count": 51
        }
      ]
    },
    {
      "cell_type": "code",
      "source": [
        "prec"
      ],
      "metadata": {
        "colab": {
          "base_uri": "https://localhost:8080/"
        },
        "id": "kUQvav-05SxP",
        "outputId": "5fbcbf78-e4a1-419d-cd42-c5ff9f0ed419"
      },
      "execution_count": null,
      "outputs": [
        {
          "output_type": "execute_result",
          "data": {
            "text/plain": [
              "0.5402298850574713"
            ]
          },
          "metadata": {},
          "execution_count": 52
        }
      ]
    },
    {
      "cell_type": "code",
      "source": [
        "2* rec*prec/(rec+prec)"
      ],
      "metadata": {
        "id": "Lpkz0zDi5UWv",
        "colab": {
          "base_uri": "https://localhost:8080/"
        },
        "outputId": "079faddd-e279-4d55-f28b-91144861650e"
      },
      "execution_count": null,
      "outputs": [
        {
          "output_type": "execute_result",
          "data": {
            "text/plain": [
              "0.12634408602150535"
            ]
          },
          "metadata": {},
          "execution_count": 55
        }
      ]
    }
  ]
}